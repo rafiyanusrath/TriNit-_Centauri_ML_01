{
 "cells": [
  {
   "cell_type": "code",
   "execution_count": null,
   "metadata": {},
   "outputs": [],
   "source": [
    "import logging\n",
    "logging.getLogger().setLevel(logging.CRITICAL)"
   ]
  },
  {
   "cell_type": "code",
   "execution_count": null,
   "metadata": {},
   "outputs": [],
   "source": [
    "from pylabel import importer"
   ]
  },
  {
   "cell_type": "code",
   "execution_count": null,
   "metadata": {},
   "outputs": [],
   "source": [
    "#Download the annotations and images\n",
    "path_to_annotations = r\"D:\\Road_data\\annotations\"\n",
    "\n",
    "#Identify the path to get from the annotations to the images\n",
    "path_to_images = r\"D:\\Road_data\\images\"\n",
    "\n",
    "dataset = importer.ImportVOC(path=path_to_annotations, path_to_images=path_to_images, name=\"Road_data\")\n",
    "dataset.df.head(5)"
   ]
  },
  {
   "cell_type": "code",
   "execution_count": null,
   "metadata": {},
   "outputs": [],
   "source": [
    "#Confirm that there are images by displaying an image\n",
    "from IPython.display import display\n",
    "display(dataset.visualize.ShowBoundingBoxes(67))"
   ]
  },
  {
   "cell_type": "code",
   "execution_count": null,
   "metadata": {},
   "outputs": [],
   "source": [
    "print(f\"Number of images: {dataset.analyze.num_images}\")\n",
    "print(f\"Number of classes: {dataset.analyze.num_classes}\")\n",
    "print(f\"Classes:{dataset.analyze.classes}\")\n",
    "print(f\"Class counts:\\n{dataset.analyze.class_counts}\")"
   ]
  },
  {
   "cell_type": "code",
   "execution_count": null,
   "metadata": {},
   "outputs": [],
   "source": [
    "dataset.export.ExportToYoloV5()"
   ]
  },
  {
   "cell_type": "code",
   "execution_count": null,
   "metadata": {},
   "outputs": [],
   "source": [
    "import os\n",
    "import shutil\n",
    "\n",
    "def compare_folders(txt_folder, img_folder, output_folder):\n",
    "    # Create the output folder if it doesn't exist\n",
    "    if not os.path.exists(output_folder):\n",
    "        os.makedirs(output_folder)\n",
    "\n",
    "    # Iterate over the files in the text folder\n",
    "    for txt_file in os.listdir(txt_folder):\n",
    "        if txt_file.endswith('.txt'):\n",
    "            # Extract the base name (without extension) from the text file\n",
    "            base_name = os.path.splitext(txt_file)[0]\n",
    "            \n",
    "            # Iterate over image files in the image folder\n",
    "            for img_file in os.listdir(img_folder):\n",
    "                if img_file.startswith(base_name) and any(img_file.endswith(ext) for ext in ['.jpg', '.jpeg', '.png', '.gif']):  # Adjust the list of extensions as needed\n",
    "                    # Copy the image file to the output folder\n",
    "                    shutil.copy(os.path.join(img_folder, img_file), output_folder)\n",
    "                    break  # Stop searching for matching images once one is found\n",
    "\n",
    "if __name__ == \"__main__\":\n",
    "    txt_folder = r\"D:\\training\\labels\"  # Replace with the path to your text files folder\n",
    "    img_folder = r\"D:\\Road_data\\images\"  # Replace with the path to your images folder\n",
    "    output_folder = r\"D:\\training\\images\"  # Replace with the desired path for the output folder\n",
    "    \n",
    "    compare_folders(txt_folder, img_folder, output_folder)"
   ]
  },
  {
   "cell_type": "code",
   "execution_count": null,
   "metadata": {},
   "outputs": [],
   "source": [
    "import os\n",
    "import random\n",
    "import shutil\n",
    "\n",
    "def split_data(image_folder, label_folder, train_folder, val_folder, split_ratio=0.2):\n",
    "    # Create train and val folders if they don't exist\n",
    "    for folder in [train_folder, val_folder]:\n",
    "        if not os.path.exists(folder):\n",
    "            os.makedirs(folder)\n",
    "        # Create image and label folders within train and val folders\n",
    "        image_subfolder = os.path.join(folder, 'images')\n",
    "        label_subfolder = os.path.join(folder, 'labels')\n",
    "        os.makedirs(image_subfolder)\n",
    "        os.makedirs(label_subfolder)\n",
    "\n",
    "    # Get the list of images\n",
    "    image_files = [f for f in os.listdir(image_folder) if f.endswith(('.jpg', '.jpeg', '.png', '.gif'))]\n",
    "\n",
    "    # Shuffle the images\n",
    "    random.shuffle(image_files)\n",
    "\n",
    "    # Split the data\n",
    "    split_index = int(len(image_files) * split_ratio)\n",
    "    train_images = image_files[split_index:]\n",
    "    val_images = image_files[:split_index]\n",
    "\n",
    "    # Copy images and corresponding labels to train folder\n",
    "    for image in train_images:\n",
    "        label = os.path.splitext(image)[0] + '.txt'\n",
    "        if label in os.listdir(label_folder):\n",
    "            shutil.copy(os.path.join(image_folder, image), os.path.join(train_folder, 'images', image))\n",
    "            shutil.copy(os.path.join(label_folder, label), os.path.join(train_folder, 'labels', label))\n",
    "\n",
    "    # Copy images and corresponding labels to val folder\n",
    "    for image in val_images:\n",
    "        label = os.path.splitext(image)[0] + '.txt'\n",
    "        if label in os.listdir(label_folder):\n",
    "            shutil.copy(os.path.join(image_folder, image), os.path.join(val_folder, 'images', image))\n",
    "            shutil.copy(os.path.join(label_folder, label), os.path.join(val_folder, 'labels', label))\n",
    "\n",
    "if __name__ == \"__main__\":\n",
    "    image_folder = r\"D:\\training\\images\"  # Replace with the path to your images folder\n",
    "    label_folder = r\"D:\\training\\labels\"  # Replace with the path to your labels folder\n",
    "    train_folder = r\"D:\\Hackathon_Dataset\\train\"  # Replace with the path where you want to store train data\n",
    "    val_folder = r\"D:\\Hackathon_Dataset\\val\"  # Replace with the path where you want to store validation data\n",
    "    \n",
    "    split_data(image_folder, label_folder, train_folder, val_folder)\n"
   ]
  }
 ],
 "metadata": {
  "language_info": {
   "name": "python"
  }
 },
 "nbformat": 4,
 "nbformat_minor": 2
}
